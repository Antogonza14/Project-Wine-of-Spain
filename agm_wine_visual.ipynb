import pandas as pd
import matplotlib.pyplot as plt
import seaborn as sns
import plotly.express as px
import datetime

data_vino = 'C:\\Users\\PC\\csv_docs\\wines_SPA.csv'  # Ruta del archivo con el csv sobre el vino

data = pd.read_csv(data_vino)

# Comenzamos con un grafico de barras sencillo que muestra top 10 regiones con más vino.
# Como es de esperar Rioja y Ribera del duero estan en cabeza lideres de ventas y más famosos internacionalmente.

sns.set(style="whitegrid")

# Defino una paleta de colores de vino para meterme mas en la tematica seleccionada
wine_colors = ["#f1e0d6", "#f4c2c2", "#990000", "#720017", "#310d20"]  
# Tonos desde vino blanco a tinto oscuro gran contraste

plt.figure(figsize=(8, 6))
region_count = data['region'].value_counts().head(10)  # Top 10 regiones con más vinos
sns.barplot(x=region_count.values, y=region_count.index, palette=wine_colors)
plt.title('Top 10 regiones por número de vinos')
plt.xlabel('Número de vinos')
plt.ylabel('Región')

plt.show()
