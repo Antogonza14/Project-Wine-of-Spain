import pandas as pd
import matplotlib.pyplot as plt
import seaborn as sns
import plotly.express as px
import datetime

data_vino = 'C:\\Users\\PC\\csv_docs\\wines_SPA.csv'  # Ruta del archivo con el csv sobre el vino

data = pd.read_csv(data_vino)
